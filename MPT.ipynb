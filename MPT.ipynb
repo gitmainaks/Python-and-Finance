{
 "cells": [
  {
   "cell_type": "code",
   "execution_count": 4,
   "id": "9b8075e8",
   "metadata": {},
   "outputs": [
    {
     "name": "stdout",
     "output_type": "stream",
     "text": [
      "Collecting pandas-datareader\n",
      "  Downloading pandas_datareader-0.10.0-py3-none-any.whl (109 kB)\n",
      "Requirement already satisfied: requests>=2.19.0 in c:\\users\\admin\\anaconda3\\lib\\site-packages (from pandas-datareader) (2.25.1)\n",
      "Requirement already satisfied: lxml in c:\\users\\admin\\anaconda3\\lib\\site-packages (from pandas-datareader) (4.6.3)\n",
      "Requirement already satisfied: pandas>=0.23 in c:\\users\\admin\\anaconda3\\lib\\site-packages (from pandas-datareader) (1.2.4)\n",
      "Requirement already satisfied: pytz>=2017.3 in c:\\users\\admin\\anaconda3\\lib\\site-packages (from pandas>=0.23->pandas-datareader) (2021.1)\n",
      "Requirement already satisfied: python-dateutil>=2.7.3 in c:\\users\\admin\\anaconda3\\lib\\site-packages (from pandas>=0.23->pandas-datareader) (2.8.1)\n",
      "Requirement already satisfied: numpy>=1.16.5 in c:\\users\\admin\\anaconda3\\lib\\site-packages (from pandas>=0.23->pandas-datareader) (1.20.1)\n",
      "Requirement already satisfied: six>=1.5 in c:\\users\\admin\\anaconda3\\lib\\site-packages (from python-dateutil>=2.7.3->pandas>=0.23->pandas-datareader) (1.15.0)\n",
      "Requirement already satisfied: chardet<5,>=3.0.2 in c:\\users\\admin\\anaconda3\\lib\\site-packages (from requests>=2.19.0->pandas-datareader) (4.0.0)\n",
      "Requirement already satisfied: certifi>=2017.4.17 in c:\\users\\admin\\anaconda3\\lib\\site-packages (from requests>=2.19.0->pandas-datareader) (2020.12.5)\n",
      "Requirement already satisfied: idna<3,>=2.5 in c:\\users\\admin\\anaconda3\\lib\\site-packages (from requests>=2.19.0->pandas-datareader) (2.10)\n",
      "Requirement already satisfied: urllib3<1.27,>=1.21.1 in c:\\users\\admin\\anaconda3\\lib\\site-packages (from requests>=2.19.0->pandas-datareader) (1.26.4)\n",
      "Installing collected packages: pandas-datareader\n",
      "Successfully installed pandas-datareader-0.10.0\n"
     ]
    }
   ],
   "source": [
    "!pip install pandas-datareader\n",
    "\n",
    "import pandas as pd\n",
    "import pandas_datareader.data as web\n",
    "import datetime as dt\n",
    "\n",
    "start = dt.datetime(2010,1,1)\n",
    "end = dt.datetime.now()\n",
    "\n",
    "tickers = ['AAPL', 'MSFT', 'GOOG', 'F', 'MS']\n",
    "\n",
    "df = pd.DataFrame()\n",
    "for ticker in tickers:\n",
    "    df2 = web.DataReader(ticker, 'yahoo', start, end)\n",
    "    df[ticker] = df2['Adj Close']"
   ]
  },
  {
   "cell_type": "code",
   "execution_count": 6,
   "id": "eac95a0b",
   "metadata": {},
   "outputs": [
    {
     "data": {
      "text/html": [
       "<div>\n",
       "<style scoped>\n",
       "    .dataframe tbody tr th:only-of-type {\n",
       "        vertical-align: middle;\n",
       "    }\n",
       "\n",
       "    .dataframe tbody tr th {\n",
       "        vertical-align: top;\n",
       "    }\n",
       "\n",
       "    .dataframe thead th {\n",
       "        text-align: right;\n",
       "    }\n",
       "</style>\n",
       "<table border=\"1\" class=\"dataframe\">\n",
       "  <thead>\n",
       "    <tr style=\"text-align: right;\">\n",
       "      <th></th>\n",
       "      <th>AAPL</th>\n",
       "      <th>MSFT</th>\n",
       "      <th>GOOG</th>\n",
       "      <th>F</th>\n",
       "      <th>MS</th>\n",
       "    </tr>\n",
       "    <tr>\n",
       "      <th>Date</th>\n",
       "      <th></th>\n",
       "      <th></th>\n",
       "      <th></th>\n",
       "      <th></th>\n",
       "      <th></th>\n",
       "    </tr>\n",
       "  </thead>\n",
       "  <tbody>\n",
       "    <tr>\n",
       "      <th>2009-12-31</th>\n",
       "      <td>6.444381</td>\n",
       "      <td>23.541971</td>\n",
       "      <td>308.832428</td>\n",
       "      <td>6.710280</td>\n",
       "      <td>23.820152</td>\n",
       "    </tr>\n",
       "    <tr>\n",
       "      <th>2010-01-04</th>\n",
       "      <td>6.544687</td>\n",
       "      <td>23.904985</td>\n",
       "      <td>312.204773</td>\n",
       "      <td>6.898167</td>\n",
       "      <td>24.874359</td>\n",
       "    </tr>\n",
       "    <tr>\n",
       "      <th>2010-01-05</th>\n",
       "      <td>6.556002</td>\n",
       "      <td>23.912706</td>\n",
       "      <td>310.829926</td>\n",
       "      <td>7.354465</td>\n",
       "      <td>25.783709</td>\n",
       "    </tr>\n",
       "    <tr>\n",
       "      <th>2010-01-06</th>\n",
       "      <td>6.451721</td>\n",
       "      <td>23.765953</td>\n",
       "      <td>302.994293</td>\n",
       "      <td>7.629587</td>\n",
       "      <td>26.113649</td>\n",
       "    </tr>\n",
       "    <tr>\n",
       "      <th>2010-01-07</th>\n",
       "      <td>6.439793</td>\n",
       "      <td>23.518795</td>\n",
       "      <td>295.940735</td>\n",
       "      <td>7.824187</td>\n",
       "      <td>26.491871</td>\n",
       "    </tr>\n",
       "  </tbody>\n",
       "</table>\n",
       "</div>"
      ],
      "text/plain": [
       "                AAPL       MSFT        GOOG         F         MS\n",
       "Date                                                            \n",
       "2009-12-31  6.444381  23.541971  308.832428  6.710280  23.820152\n",
       "2010-01-04  6.544687  23.904985  312.204773  6.898167  24.874359\n",
       "2010-01-05  6.556002  23.912706  310.829926  7.354465  25.783709\n",
       "2010-01-06  6.451721  23.765953  302.994293  7.629587  26.113649\n",
       "2010-01-07  6.439793  23.518795  295.940735  7.824187  26.491871"
      ]
     },
     "execution_count": 6,
     "metadata": {},
     "output_type": "execute_result"
    }
   ],
   "source": [
    "df.head()"
   ]
  },
  {
   "cell_type": "code",
   "execution_count": 7,
   "id": "23e0e06f",
   "metadata": {},
   "outputs": [
    {
     "data": {
      "text/html": [
       "<div>\n",
       "<style scoped>\n",
       "    .dataframe tbody tr th:only-of-type {\n",
       "        vertical-align: middle;\n",
       "    }\n",
       "\n",
       "    .dataframe tbody tr th {\n",
       "        vertical-align: top;\n",
       "    }\n",
       "\n",
       "    .dataframe thead th {\n",
       "        text-align: right;\n",
       "    }\n",
       "</style>\n",
       "<table border=\"1\" class=\"dataframe\">\n",
       "  <thead>\n",
       "    <tr style=\"text-align: right;\">\n",
       "      <th></th>\n",
       "      <th>AAPL</th>\n",
       "      <th>MSFT</th>\n",
       "      <th>GOOG</th>\n",
       "      <th>F</th>\n",
       "      <th>MS</th>\n",
       "    </tr>\n",
       "    <tr>\n",
       "      <th>Date</th>\n",
       "      <th></th>\n",
       "      <th></th>\n",
       "      <th></th>\n",
       "      <th></th>\n",
       "      <th></th>\n",
       "    </tr>\n",
       "  </thead>\n",
       "  <tbody>\n",
       "    <tr>\n",
       "      <th>2022-02-07</th>\n",
       "      <td>171.660004</td>\n",
       "      <td>300.950012</td>\n",
       "      <td>2778.760010</td>\n",
       "      <td>17.889999</td>\n",
       "      <td>105.180000</td>\n",
       "    </tr>\n",
       "    <tr>\n",
       "      <th>2022-02-08</th>\n",
       "      <td>174.830002</td>\n",
       "      <td>304.559998</td>\n",
       "      <td>2784.260010</td>\n",
       "      <td>17.719999</td>\n",
       "      <td>106.349998</td>\n",
       "    </tr>\n",
       "    <tr>\n",
       "      <th>2022-02-09</th>\n",
       "      <td>176.279999</td>\n",
       "      <td>311.209991</td>\n",
       "      <td>2829.060059</td>\n",
       "      <td>18.350000</td>\n",
       "      <td>108.730003</td>\n",
       "    </tr>\n",
       "    <tr>\n",
       "      <th>2022-02-10</th>\n",
       "      <td>172.119995</td>\n",
       "      <td>302.380005</td>\n",
       "      <td>2772.050049</td>\n",
       "      <td>18.080000</td>\n",
       "      <td>107.570000</td>\n",
       "    </tr>\n",
       "    <tr>\n",
       "      <th>2022-02-11</th>\n",
       "      <td>168.639999</td>\n",
       "      <td>295.040009</td>\n",
       "      <td>2682.600098</td>\n",
       "      <td>17.549999</td>\n",
       "      <td>104.570000</td>\n",
       "    </tr>\n",
       "  </tbody>\n",
       "</table>\n",
       "</div>"
      ],
      "text/plain": [
       "                  AAPL        MSFT         GOOG          F          MS\n",
       "Date                                                                  \n",
       "2022-02-07  171.660004  300.950012  2778.760010  17.889999  105.180000\n",
       "2022-02-08  174.830002  304.559998  2784.260010  17.719999  106.349998\n",
       "2022-02-09  176.279999  311.209991  2829.060059  18.350000  108.730003\n",
       "2022-02-10  172.119995  302.380005  2772.050049  18.080000  107.570000\n",
       "2022-02-11  168.639999  295.040009  2682.600098  17.549999  104.570000"
      ]
     },
     "execution_count": 7,
     "metadata": {},
     "output_type": "execute_result"
    }
   ],
   "source": [
    "df.tail()"
   ]
  },
  {
   "cell_type": "code",
   "execution_count": 9,
   "id": "ffd899ff",
   "metadata": {},
   "outputs": [],
   "source": [
    "import numpy as np\n",
    "\n",
    "return1 = np.log(df/df.shift(1))"
   ]
  },
  {
   "cell_type": "code",
   "execution_count": 10,
   "id": "25e3d6b8",
   "metadata": {},
   "outputs": [
    {
     "data": {
      "text/html": [
       "<div>\n",
       "<style scoped>\n",
       "    .dataframe tbody tr th:only-of-type {\n",
       "        vertical-align: middle;\n",
       "    }\n",
       "\n",
       "    .dataframe tbody tr th {\n",
       "        vertical-align: top;\n",
       "    }\n",
       "\n",
       "    .dataframe thead th {\n",
       "        text-align: right;\n",
       "    }\n",
       "</style>\n",
       "<table border=\"1\" class=\"dataframe\">\n",
       "  <thead>\n",
       "    <tr style=\"text-align: right;\">\n",
       "      <th></th>\n",
       "      <th>AAPL</th>\n",
       "      <th>MSFT</th>\n",
       "      <th>GOOG</th>\n",
       "      <th>F</th>\n",
       "      <th>MS</th>\n",
       "    </tr>\n",
       "    <tr>\n",
       "      <th>Date</th>\n",
       "      <th></th>\n",
       "      <th></th>\n",
       "      <th></th>\n",
       "      <th></th>\n",
       "      <th></th>\n",
       "    </tr>\n",
       "  </thead>\n",
       "  <tbody>\n",
       "    <tr>\n",
       "      <th>2009-12-31</th>\n",
       "      <td>NaN</td>\n",
       "      <td>NaN</td>\n",
       "      <td>NaN</td>\n",
       "      <td>NaN</td>\n",
       "      <td>NaN</td>\n",
       "    </tr>\n",
       "    <tr>\n",
       "      <th>2010-01-04</th>\n",
       "      <td>0.015445</td>\n",
       "      <td>0.015302</td>\n",
       "      <td>0.010860</td>\n",
       "      <td>0.027615</td>\n",
       "      <td>0.043306</td>\n",
       "    </tr>\n",
       "    <tr>\n",
       "      <th>2010-01-05</th>\n",
       "      <td>0.001727</td>\n",
       "      <td>0.000323</td>\n",
       "      <td>-0.004413</td>\n",
       "      <td>0.064052</td>\n",
       "      <td>0.035905</td>\n",
       "    </tr>\n",
       "    <tr>\n",
       "      <th>2010-01-06</th>\n",
       "      <td>-0.016034</td>\n",
       "      <td>-0.006156</td>\n",
       "      <td>-0.025532</td>\n",
       "      <td>0.036726</td>\n",
       "      <td>0.012715</td>\n",
       "    </tr>\n",
       "    <tr>\n",
       "      <th>2010-01-07</th>\n",
       "      <td>-0.001851</td>\n",
       "      <td>-0.010454</td>\n",
       "      <td>-0.023555</td>\n",
       "      <td>0.025186</td>\n",
       "      <td>0.014380</td>\n",
       "    </tr>\n",
       "  </tbody>\n",
       "</table>\n",
       "</div>"
      ],
      "text/plain": [
       "                AAPL      MSFT      GOOG         F        MS\n",
       "Date                                                        \n",
       "2009-12-31       NaN       NaN       NaN       NaN       NaN\n",
       "2010-01-04  0.015445  0.015302  0.010860  0.027615  0.043306\n",
       "2010-01-05  0.001727  0.000323 -0.004413  0.064052  0.035905\n",
       "2010-01-06 -0.016034 -0.006156 -0.025532  0.036726  0.012715\n",
       "2010-01-07 -0.001851 -0.010454 -0.023555  0.025186  0.014380"
      ]
     },
     "execution_count": 10,
     "metadata": {},
     "output_type": "execute_result"
    }
   ],
   "source": [
    "return1.head()"
   ]
  },
  {
   "cell_type": "code",
   "execution_count": 11,
   "id": "df34b98d",
   "metadata": {},
   "outputs": [
    {
     "data": {
      "text/html": [
       "<div>\n",
       "<style scoped>\n",
       "    .dataframe tbody tr th:only-of-type {\n",
       "        vertical-align: middle;\n",
       "    }\n",
       "\n",
       "    .dataframe tbody tr th {\n",
       "        vertical-align: top;\n",
       "    }\n",
       "\n",
       "    .dataframe thead th {\n",
       "        text-align: right;\n",
       "    }\n",
       "</style>\n",
       "<table border=\"1\" class=\"dataframe\">\n",
       "  <thead>\n",
       "    <tr style=\"text-align: right;\">\n",
       "      <th></th>\n",
       "      <th>AAPL</th>\n",
       "      <th>MSFT</th>\n",
       "      <th>GOOG</th>\n",
       "      <th>F</th>\n",
       "      <th>MS</th>\n",
       "    </tr>\n",
       "    <tr>\n",
       "      <th>Date</th>\n",
       "      <th></th>\n",
       "      <th></th>\n",
       "      <th></th>\n",
       "      <th></th>\n",
       "      <th></th>\n",
       "    </tr>\n",
       "  </thead>\n",
       "  <tbody>\n",
       "    <tr>\n",
       "      <th>2022-02-07</th>\n",
       "      <td>-0.004244</td>\n",
       "      <td>-0.016445</td>\n",
       "      <td>-0.028929</td>\n",
       "      <td>-0.003905</td>\n",
       "      <td>0.010225</td>\n",
       "    </tr>\n",
       "    <tr>\n",
       "      <th>2022-02-08</th>\n",
       "      <td>0.018298</td>\n",
       "      <td>0.011924</td>\n",
       "      <td>0.001977</td>\n",
       "      <td>-0.009548</td>\n",
       "      <td>0.011062</td>\n",
       "    </tr>\n",
       "    <tr>\n",
       "      <th>2022-02-09</th>\n",
       "      <td>0.008260</td>\n",
       "      <td>0.021600</td>\n",
       "      <td>0.015962</td>\n",
       "      <td>0.034936</td>\n",
       "      <td>0.022132</td>\n",
       "    </tr>\n",
       "    <tr>\n",
       "      <th>2022-02-10</th>\n",
       "      <td>-0.023882</td>\n",
       "      <td>-0.028783</td>\n",
       "      <td>-0.020357</td>\n",
       "      <td>-0.014823</td>\n",
       "      <td>-0.010726</td>\n",
       "    </tr>\n",
       "    <tr>\n",
       "      <th>2022-02-11</th>\n",
       "      <td>-0.020426</td>\n",
       "      <td>-0.024574</td>\n",
       "      <td>-0.032801</td>\n",
       "      <td>-0.029752</td>\n",
       "      <td>-0.028285</td>\n",
       "    </tr>\n",
       "  </tbody>\n",
       "</table>\n",
       "</div>"
      ],
      "text/plain": [
       "                AAPL      MSFT      GOOG         F        MS\n",
       "Date                                                        \n",
       "2022-02-07 -0.004244 -0.016445 -0.028929 -0.003905  0.010225\n",
       "2022-02-08  0.018298  0.011924  0.001977 -0.009548  0.011062\n",
       "2022-02-09  0.008260  0.021600  0.015962  0.034936  0.022132\n",
       "2022-02-10 -0.023882 -0.028783 -0.020357 -0.014823 -0.010726\n",
       "2022-02-11 -0.020426 -0.024574 -0.032801 -0.029752 -0.028285"
      ]
     },
     "execution_count": 11,
     "metadata": {},
     "output_type": "execute_result"
    }
   ],
   "source": [
    "return1.tail()"
   ]
  },
  {
   "cell_type": "code",
   "execution_count": 13,
   "id": "1b6d1e11",
   "metadata": {},
   "outputs": [
    {
     "data": {
      "text/html": [
       "<div>\n",
       "<style scoped>\n",
       "    .dataframe tbody tr th:only-of-type {\n",
       "        vertical-align: middle;\n",
       "    }\n",
       "\n",
       "    .dataframe tbody tr th {\n",
       "        vertical-align: top;\n",
       "    }\n",
       "\n",
       "    .dataframe thead th {\n",
       "        text-align: right;\n",
       "    }\n",
       "</style>\n",
       "<table border=\"1\" class=\"dataframe\">\n",
       "  <thead>\n",
       "    <tr style=\"text-align: right;\">\n",
       "      <th></th>\n",
       "      <th>AAPL</th>\n",
       "      <th>MSFT</th>\n",
       "      <th>GOOG</th>\n",
       "      <th>F</th>\n",
       "      <th>MS</th>\n",
       "    </tr>\n",
       "    <tr>\n",
       "      <th>Date</th>\n",
       "      <th></th>\n",
       "      <th></th>\n",
       "      <th></th>\n",
       "      <th></th>\n",
       "      <th></th>\n",
       "    </tr>\n",
       "  </thead>\n",
       "  <tbody>\n",
       "    <tr>\n",
       "      <th>2010-01-04</th>\n",
       "      <td>0.015445</td>\n",
       "      <td>0.015302</td>\n",
       "      <td>0.010860</td>\n",
       "      <td>0.027615</td>\n",
       "      <td>0.043306</td>\n",
       "    </tr>\n",
       "    <tr>\n",
       "      <th>2010-01-05</th>\n",
       "      <td>0.001727</td>\n",
       "      <td>0.000323</td>\n",
       "      <td>-0.004413</td>\n",
       "      <td>0.064052</td>\n",
       "      <td>0.035905</td>\n",
       "    </tr>\n",
       "    <tr>\n",
       "      <th>2010-01-06</th>\n",
       "      <td>-0.016034</td>\n",
       "      <td>-0.006156</td>\n",
       "      <td>-0.025532</td>\n",
       "      <td>0.036726</td>\n",
       "      <td>0.012715</td>\n",
       "    </tr>\n",
       "    <tr>\n",
       "      <th>2010-01-07</th>\n",
       "      <td>-0.001851</td>\n",
       "      <td>-0.010454</td>\n",
       "      <td>-0.023555</td>\n",
       "      <td>0.025186</td>\n",
       "      <td>0.014380</td>\n",
       "    </tr>\n",
       "    <tr>\n",
       "      <th>2010-01-08</th>\n",
       "      <td>0.006626</td>\n",
       "      <td>0.006873</td>\n",
       "      <td>0.013243</td>\n",
       "      <td>0.002569</td>\n",
       "      <td>-0.020562</td>\n",
       "    </tr>\n",
       "  </tbody>\n",
       "</table>\n",
       "</div>"
      ],
      "text/plain": [
       "                AAPL      MSFT      GOOG         F        MS\n",
       "Date                                                        \n",
       "2010-01-04  0.015445  0.015302  0.010860  0.027615  0.043306\n",
       "2010-01-05  0.001727  0.000323 -0.004413  0.064052  0.035905\n",
       "2010-01-06 -0.016034 -0.006156 -0.025532  0.036726  0.012715\n",
       "2010-01-07 -0.001851 -0.010454 -0.023555  0.025186  0.014380\n",
       "2010-01-08  0.006626  0.006873  0.013243  0.002569 -0.020562"
      ]
     },
     "execution_count": 13,
     "metadata": {},
     "output_type": "execute_result"
    }
   ],
   "source": [
    "return1.dropna(inplace=True)\n",
    "return1.head()"
   ]
  },
  {
   "cell_type": "code",
   "execution_count": 14,
   "id": "222ad01b",
   "metadata": {},
   "outputs": [
    {
     "data": {
      "text/html": [
       "<div>\n",
       "<style scoped>\n",
       "    .dataframe tbody tr th:only-of-type {\n",
       "        vertical-align: middle;\n",
       "    }\n",
       "\n",
       "    .dataframe tbody tr th {\n",
       "        vertical-align: top;\n",
       "    }\n",
       "\n",
       "    .dataframe thead th {\n",
       "        text-align: right;\n",
       "    }\n",
       "</style>\n",
       "<table border=\"1\" class=\"dataframe\">\n",
       "  <thead>\n",
       "    <tr style=\"text-align: right;\">\n",
       "      <th></th>\n",
       "      <th>AAPL</th>\n",
       "      <th>MSFT</th>\n",
       "      <th>GOOG</th>\n",
       "      <th>F</th>\n",
       "      <th>MS</th>\n",
       "    </tr>\n",
       "  </thead>\n",
       "  <tbody>\n",
       "    <tr>\n",
       "      <th>count</th>\n",
       "      <td>3050.000000</td>\n",
       "      <td>3050.000000</td>\n",
       "      <td>3050.000000</td>\n",
       "      <td>3050.000000</td>\n",
       "      <td>3050.000000</td>\n",
       "    </tr>\n",
       "    <tr>\n",
       "      <th>mean</th>\n",
       "      <td>0.001070</td>\n",
       "      <td>0.000829</td>\n",
       "      <td>0.000709</td>\n",
       "      <td>0.000315</td>\n",
       "      <td>0.000485</td>\n",
       "    </tr>\n",
       "    <tr>\n",
       "      <th>std</th>\n",
       "      <td>0.017699</td>\n",
       "      <td>0.015838</td>\n",
       "      <td>0.016298</td>\n",
       "      <td>0.020634</td>\n",
       "      <td>0.022146</td>\n",
       "    </tr>\n",
       "    <tr>\n",
       "      <th>min</th>\n",
       "      <td>-0.137708</td>\n",
       "      <td>-0.159453</td>\n",
       "      <td>-0.117667</td>\n",
       "      <td>-0.144002</td>\n",
       "      <td>-0.169603</td>\n",
       "    </tr>\n",
       "    <tr>\n",
       "      <th>25%</th>\n",
       "      <td>-0.007154</td>\n",
       "      <td>-0.006702</td>\n",
       "      <td>-0.006470</td>\n",
       "      <td>-0.009534</td>\n",
       "      <td>-0.009950</td>\n",
       "    </tr>\n",
       "    <tr>\n",
       "      <th>50%</th>\n",
       "      <td>0.000951</td>\n",
       "      <td>0.000694</td>\n",
       "      <td>0.000699</td>\n",
       "      <td>0.000000</td>\n",
       "      <td>0.000592</td>\n",
       "    </tr>\n",
       "    <tr>\n",
       "      <th>75%</th>\n",
       "      <td>0.010420</td>\n",
       "      <td>0.008789</td>\n",
       "      <td>0.008787</td>\n",
       "      <td>0.010158</td>\n",
       "      <td>0.011721</td>\n",
       "    </tr>\n",
       "    <tr>\n",
       "      <th>max</th>\n",
       "      <td>0.113157</td>\n",
       "      <td>0.132929</td>\n",
       "      <td>0.148872</td>\n",
       "      <td>0.210596</td>\n",
       "      <td>0.180403</td>\n",
       "    </tr>\n",
       "  </tbody>\n",
       "</table>\n",
       "</div>"
      ],
      "text/plain": [
       "              AAPL         MSFT         GOOG            F           MS\n",
       "count  3050.000000  3050.000000  3050.000000  3050.000000  3050.000000\n",
       "mean      0.001070     0.000829     0.000709     0.000315     0.000485\n",
       "std       0.017699     0.015838     0.016298     0.020634     0.022146\n",
       "min      -0.137708    -0.159453    -0.117667    -0.144002    -0.169603\n",
       "25%      -0.007154    -0.006702    -0.006470    -0.009534    -0.009950\n",
       "50%       0.000951     0.000694     0.000699     0.000000     0.000592\n",
       "75%       0.010420     0.008789     0.008787     0.010158     0.011721\n",
       "max       0.113157     0.132929     0.148872     0.210596     0.180403"
      ]
     },
     "execution_count": 14,
     "metadata": {},
     "output_type": "execute_result"
    }
   ],
   "source": [
    "return1.describe()"
   ]
  },
  {
   "cell_type": "code",
   "execution_count": 22,
   "id": "d99ff102",
   "metadata": {},
   "outputs": [],
   "source": [
    "Er = np.array(return1.describe().loc['mean'])\n",
    "std = np.array(return1.describe().loc['std'])\n",
    "var = std**2"
   ]
  },
  {
   "cell_type": "code",
   "execution_count": 21,
   "id": "2b8773d5",
   "metadata": {},
   "outputs": [
    {
     "data": {
      "text/html": [
       "<div>\n",
       "<style scoped>\n",
       "    .dataframe tbody tr th:only-of-type {\n",
       "        vertical-align: middle;\n",
       "    }\n",
       "\n",
       "    .dataframe tbody tr th {\n",
       "        vertical-align: top;\n",
       "    }\n",
       "\n",
       "    .dataframe thead th {\n",
       "        text-align: right;\n",
       "    }\n",
       "</style>\n",
       "<table border=\"1\" class=\"dataframe\">\n",
       "  <thead>\n",
       "    <tr style=\"text-align: right;\">\n",
       "      <th></th>\n",
       "      <th>AAPL</th>\n",
       "      <th>MSFT</th>\n",
       "      <th>GOOG</th>\n",
       "      <th>F</th>\n",
       "      <th>MS</th>\n",
       "    </tr>\n",
       "  </thead>\n",
       "  <tbody>\n",
       "    <tr>\n",
       "      <th>AAPL</th>\n",
       "      <td>0.000313</td>\n",
       "      <td>0.000159</td>\n",
       "      <td>0.000154</td>\n",
       "      <td>0.000129</td>\n",
       "      <td>0.000159</td>\n",
       "    </tr>\n",
       "    <tr>\n",
       "      <th>MSFT</th>\n",
       "      <td>0.000159</td>\n",
       "      <td>0.000251</td>\n",
       "      <td>0.000161</td>\n",
       "      <td>0.000122</td>\n",
       "      <td>0.000168</td>\n",
       "    </tr>\n",
       "    <tr>\n",
       "      <th>GOOG</th>\n",
       "      <td>0.000154</td>\n",
       "      <td>0.000161</td>\n",
       "      <td>0.000266</td>\n",
       "      <td>0.000121</td>\n",
       "      <td>0.000166</td>\n",
       "    </tr>\n",
       "    <tr>\n",
       "      <th>F</th>\n",
       "      <td>0.000129</td>\n",
       "      <td>0.000122</td>\n",
       "      <td>0.000121</td>\n",
       "      <td>0.000426</td>\n",
       "      <td>0.000258</td>\n",
       "    </tr>\n",
       "    <tr>\n",
       "      <th>MS</th>\n",
       "      <td>0.000159</td>\n",
       "      <td>0.000168</td>\n",
       "      <td>0.000166</td>\n",
       "      <td>0.000258</td>\n",
       "      <td>0.000490</td>\n",
       "    </tr>\n",
       "  </tbody>\n",
       "</table>\n",
       "</div>"
      ],
      "text/plain": [
       "          AAPL      MSFT      GOOG         F        MS\n",
       "AAPL  0.000313  0.000159  0.000154  0.000129  0.000159\n",
       "MSFT  0.000159  0.000251  0.000161  0.000122  0.000168\n",
       "GOOG  0.000154  0.000161  0.000266  0.000121  0.000166\n",
       "F     0.000129  0.000122  0.000121  0.000426  0.000258\n",
       "MS    0.000159  0.000168  0.000166  0.000258  0.000490"
      ]
     },
     "execution_count": 21,
     "metadata": {},
     "output_type": "execute_result"
    }
   ],
   "source": [
    "varcovar1 = return1.cov()\n",
    "varcovar1"
   ]
  },
  {
   "cell_type": "code",
   "execution_count": 35,
   "id": "b907717c",
   "metadata": {},
   "outputs": [],
   "source": [
    "# Efficient portfolio A\n",
    "\n",
    "c1 = 0\n",
    "\n",
    "weightA = np.linalg.inv(varcovar1) @ (Er-c1) / np.sum(np.linalg.inv(varcovar1) @ (Er-c1))\n",
    "ErA = weightA @ Er\n",
    "ErA\n",
    "VarA = weightA @ varcovar1 @ weightA.T\n",
    "VarA\n",
    "stdA = np.sqrt(VarA)"
   ]
  },
  {
   "cell_type": "code",
   "execution_count": 24,
   "id": "42ef6d77",
   "metadata": {},
   "outputs": [
    {
     "data": {
      "text/plain": [
       "array([ 0.65155698,  0.44022073,  0.12542825, -0.1167766 , -0.10042936])"
      ]
     },
     "execution_count": 24,
     "metadata": {},
     "output_type": "execute_result"
    }
   ],
   "source": [
    "weightA"
   ]
  },
  {
   "cell_type": "code",
   "execution_count": 36,
   "id": "e2435b37",
   "metadata": {},
   "outputs": [],
   "source": [
    "# Efficient portfolio B\n",
    "\n",
    "c2 = 0.04\n",
    "\n",
    "weightB = np.linalg.inv(varcovar1) @ (Er-c2) / np.sum(np.linalg.inv(varcovar1) @ (Er-c2))\n",
    "ErB = weightB @ Er\n",
    "ErB\n",
    "VarB = weightB @ varcovar1 @ weightB.T\n",
    "VarB\n",
    "stdB = np.sqrt(VarB)"
   ]
  },
  {
   "cell_type": "code",
   "execution_count": 26,
   "id": "7395affc",
   "metadata": {},
   "outputs": [
    {
     "data": {
      "text/plain": [
       "array([ 0.1879895 ,  0.32026199,  0.29208655,  0.20195931, -0.00229736])"
      ]
     },
     "execution_count": 26,
     "metadata": {},
     "output_type": "execute_result"
    }
   ],
   "source": [
    "weightB"
   ]
  },
  {
   "cell_type": "code",
   "execution_count": 31,
   "id": "7b2f36d2",
   "metadata": {},
   "outputs": [],
   "source": [
    "covAB = weightA @ varcovar1 @ weightB.T"
   ]
  },
  {
   "cell_type": "code",
   "execution_count": 60,
   "id": "d5849655",
   "metadata": {},
   "outputs": [],
   "source": [
    "wa = np.linspace(-1.5, 4.5, num = 10)\n",
    "wb = 1- wa"
   ]
  },
  {
   "cell_type": "code",
   "execution_count": 61,
   "id": "91da109b",
   "metadata": {},
   "outputs": [
    {
     "data": {
      "text/plain": [
       "array([0.00024212, 0.00046174, 0.00068136, 0.00090098, 0.0011206 ,\n",
       "       0.00134022, 0.00155984, 0.00177946, 0.00199908, 0.0022187 ])"
      ]
     },
     "execution_count": 61,
     "metadata": {},
     "output_type": "execute_result"
    }
   ],
   "source": [
    "ErC = wa*ErA + wb*ErB\n",
    "ErC"
   ]
  },
  {
   "cell_type": "code",
   "execution_count": 62,
   "id": "bfc0a3f5",
   "metadata": {},
   "outputs": [
    {
     "data": {
      "text/plain": [
       "array([0.01928368, 0.0155494 , 0.01359679, 0.01418194, 0.01704545,\n",
       "       0.02128692, 0.0262466 , 0.03158799, 0.03714678, 0.04283843])"
      ]
     },
     "execution_count": 62,
     "metadata": {},
     "output_type": "execute_result"
    }
   ],
   "source": [
    "stdC = np.sqrt((wa*stdA)**2 + (wb*stdB)**2 + 2*wa*wb*covAB)\n",
    "stdC"
   ]
  },
  {
   "cell_type": "code",
   "execution_count": null,
   "id": "3cc51079",
   "metadata": {},
   "outputs": [],
   "source": []
  },
  {
   "cell_type": "code",
   "execution_count": null,
   "id": "35963e13",
   "metadata": {},
   "outputs": [],
   "source": []
  },
  {
   "cell_type": "code",
   "execution_count": 63,
   "id": "801cb62b",
   "metadata": {},
   "outputs": [
    {
     "data": {
      "image/png": "[encoded data removed]",
      "text/plain": [
       "<Figure size 432x288 with 1 Axes>"
      ]
     },
     "metadata": {
      "needs_background": "light"
     },
     "output_type": "display_data"
    }
   ],
   "source": [
    "import matplotlib.pyplot as plt\n",
    "\n",
    "plt.plot(stdC, ErC)\n",
    "plt.show()"
   ]
  },
  {
   "cell_type": "code",
   "execution_count": 64,
   "id": "8164f36b",
   "metadata": {},
   "outputs": [],
   "source": [
    "# Global Minimum Variance Portfolio\n",
    "\n",
    "UM = np.ones((varcovar1.shape[0]))\n",
    "\n",
    "GMVP = UM @ np.linalg.inv(varcovar1) / (UM @ np.linalg.inv(varcovar1) @ UM.T)"
   ]
  },
  {
   "cell_type": "code",
   "execution_count": 65,
   "id": "a36ae620",
   "metadata": {},
   "outputs": [
    {
     "data": {
      "text/plain": [
       "0.013492545454902184"
      ]
     },
     "execution_count": 65,
     "metadata": {},
     "output_type": "execute_result"
    }
   ],
   "source": [
    "GMVP\n",
    "ErG = GMVP @ Er\n",
    "stdG = np.sqrt(GMVP @ varcovar1 @ GMVP.T)\n",
    "stdG"
   ]
  },
  {
   "cell_type": "code",
   "execution_count": 66,
   "id": "e5e9994b",
   "metadata": {},
   "outputs": [
    {
     "data": {
      "image/png": "[encoded data removed]",
      "text/plain": [
       "<Figure size 432x288 with 1 Axes>"
      ]
     },
     "metadata": {
      "needs_background": "light"
     },
     "output_type": "display_data"
    }
   ],
   "source": [
    "plt.plot(stdC, ErC)\n",
    "plt.scatter(stdG, ErG)\n",
    "plt.show()"
   ]
  },
  {
   "cell_type": "code",
   "execution_count": null,
   "id": "3543361f",
   "metadata": {},
   "outputs": [],
   "source": []
  }
 ],
 "metadata": {
  "kernelspec": {
   "display_name": "Python 3",
   "language": "python",
   "name": "python3"
  },
  "language_info": {
   "codemirror_mode": {
    "name": "ipython",
    "version": 3
   },
   "file_extension": ".py",
   "mimetype": "text/x-python",
   "name": "python",
   "nbconvert_exporter": "python",
   "pygments_lexer": "ipython3",
   "version": "3.8.8"
  }
 },
 "nbformat": 4,
 "nbformat_minor": 5
}
