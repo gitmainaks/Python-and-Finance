{
 "cells": [
  {
   "cell_type": "code",
   "execution_count": 1,
   "id": "01a34839",
   "metadata": {},
   "outputs": [],
   "source": [
    "import pandas as pd\n",
    "import numpy as np\n",
    "import matplotlib.pyplot as plt\n",
    "from nsepy import get_history\n",
    "from datetime import date"
   ]
  },
  {
   "cell_type": "code",
   "execution_count": 2,
   "id": "cd2007ae",
   "metadata": {},
   "outputs": [
    {
     "data": {
      "text/html": [
       "<div>\n",
       "<style scoped>\n",
       "    .dataframe tbody tr th:only-of-type {\n",
       "        vertical-align: middle;\n",
       "    }\n",
       "\n",
       "    .dataframe tbody tr th {\n",
       "        vertical-align: top;\n",
       "    }\n",
       "\n",
       "    .dataframe thead th {\n",
       "        text-align: right;\n",
       "    }\n",
       "</style>\n",
       "<table border=\"1\" class=\"dataframe\">\n",
       "  <thead>\n",
       "    <tr style=\"text-align: right;\">\n",
       "      <th></th>\n",
       "      <th>AXISBANK</th>\n",
       "      <th>TATASTEEL</th>\n",
       "    </tr>\n",
       "    <tr>\n",
       "      <th>Date</th>\n",
       "      <th></th>\n",
       "      <th></th>\n",
       "    </tr>\n",
       "  </thead>\n",
       "  <tbody>\n",
       "    <tr>\n",
       "      <th>2015-05-04</th>\n",
       "      <td>568.35</td>\n",
       "      <td>361.65</td>\n",
       "    </tr>\n",
       "    <tr>\n",
       "      <th>2015-05-05</th>\n",
       "      <td>565.85</td>\n",
       "      <td>380.10</td>\n",
       "    </tr>\n",
       "    <tr>\n",
       "      <th>2015-05-06</th>\n",
       "      <td>543.30</td>\n",
       "      <td>367.65</td>\n",
       "    </tr>\n",
       "    <tr>\n",
       "      <th>2015-05-07</th>\n",
       "      <td>527.35</td>\n",
       "      <td>367.30</td>\n",
       "    </tr>\n",
       "    <tr>\n",
       "      <th>2015-05-08</th>\n",
       "      <td>540.80</td>\n",
       "      <td>366.70</td>\n",
       "    </tr>\n",
       "  </tbody>\n",
       "</table>\n",
       "</div>"
      ],
      "text/plain": [
       "            AXISBANK  TATASTEEL\n",
       "Date                           \n",
       "2015-05-04    568.35     361.65\n",
       "2015-05-05    565.85     380.10\n",
       "2015-05-06    543.30     367.65\n",
       "2015-05-07    527.35     367.30\n",
       "2015-05-08    540.80     366.70"
      ]
     },
     "execution_count": 2,
     "metadata": {},
     "output_type": "execute_result"
    }
   ],
   "source": [
    "# Getting the data in pandas dataframe\n",
    "\n",
    "stocks = [\"AXISBANK\", \"TATASTEEL\"]\n",
    "mydata = pd.DataFrame()\n",
    "for i in stocks:\n",
    "    mydata[i] = get_history(symbol = i, start = date(2015,5,1), end = date(2021,5,1))[\"Close\"]\n",
    "mydata.head()    "
   ]
  },
  {
   "cell_type": "code",
   "execution_count": 3,
   "id": "4aad3d61",
   "metadata": {},
   "outputs": [
    {
     "data": {
      "text/html": [
       "<div>\n",
       "<style scoped>\n",
       "    .dataframe tbody tr th:only-of-type {\n",
       "        vertical-align: middle;\n",
       "    }\n",
       "\n",
       "    .dataframe tbody tr th {\n",
       "        vertical-align: top;\n",
       "    }\n",
       "\n",
       "    .dataframe thead th {\n",
       "        text-align: right;\n",
       "    }\n",
       "</style>\n",
       "<table border=\"1\" class=\"dataframe\">\n",
       "  <thead>\n",
       "    <tr style=\"text-align: right;\">\n",
       "      <th></th>\n",
       "      <th>AXISBANK</th>\n",
       "      <th>TATASTEEL</th>\n",
       "    </tr>\n",
       "    <tr>\n",
       "      <th>Date</th>\n",
       "      <th></th>\n",
       "      <th></th>\n",
       "    </tr>\n",
       "  </thead>\n",
       "  <tbody>\n",
       "    <tr>\n",
       "      <th>2015-05-04</th>\n",
       "      <td>NaN</td>\n",
       "      <td>NaN</td>\n",
       "    </tr>\n",
       "    <tr>\n",
       "      <th>2015-05-05</th>\n",
       "      <td>-0.004408</td>\n",
       "      <td>0.049757</td>\n",
       "    </tr>\n",
       "    <tr>\n",
       "      <th>2015-05-06</th>\n",
       "      <td>-0.040667</td>\n",
       "      <td>-0.033303</td>\n",
       "    </tr>\n",
       "    <tr>\n",
       "      <th>2015-05-07</th>\n",
       "      <td>-0.029797</td>\n",
       "      <td>-0.000952</td>\n",
       "    </tr>\n",
       "    <tr>\n",
       "      <th>2015-05-08</th>\n",
       "      <td>0.025185</td>\n",
       "      <td>-0.001635</td>\n",
       "    </tr>\n",
       "  </tbody>\n",
       "</table>\n",
       "</div>"
      ],
      "text/plain": [
       "            AXISBANK  TATASTEEL\n",
       "Date                           \n",
       "2015-05-04       NaN        NaN\n",
       "2015-05-05 -0.004408   0.049757\n",
       "2015-05-06 -0.040667  -0.033303\n",
       "2015-05-07 -0.029797  -0.000952\n",
       "2015-05-08  0.025185  -0.001635"
      ]
     },
     "execution_count": 3,
     "metadata": {},
     "output_type": "execute_result"
    }
   ],
   "source": [
    "# Calculating the return of each stock in dataframe\n",
    "\n",
    "stock_return = np.log(mydata / mydata.shift(1))\n",
    "stock_return.head()"
   ]
  },
  {
   "cell_type": "code",
   "execution_count": 4,
   "id": "ba52d2c9",
   "metadata": {},
   "outputs": [
    {
     "data": {
      "text/plain": [
       "AXISBANK     0.038646\n",
       "TATASTEEL    0.176973\n",
       "dtype: float64"
      ]
     },
     "execution_count": 4,
     "metadata": {},
     "output_type": "execute_result"
    }
   ],
   "source": [
    "# Calculating mean of securities in dataframe\n",
    "\n",
    "stock_return[[\"AXISBANK\", \"TATASTEEL\"]].mean()*250"
   ]
  },
  {
   "cell_type": "code",
   "execution_count": 5,
   "id": "dae52f05",
   "metadata": {},
   "outputs": [
    {
     "data": {
      "text/html": [
       "<div>\n",
       "<style scoped>\n",
       "    .dataframe tbody tr th:only-of-type {\n",
       "        vertical-align: middle;\n",
       "    }\n",
       "\n",
       "    .dataframe tbody tr th {\n",
       "        vertical-align: top;\n",
       "    }\n",
       "\n",
       "    .dataframe thead th {\n",
       "        text-align: right;\n",
       "    }\n",
       "</style>\n",
       "<table border=\"1\" class=\"dataframe\">\n",
       "  <thead>\n",
       "    <tr style=\"text-align: right;\">\n",
       "      <th></th>\n",
       "      <th>AXISBANK</th>\n",
       "      <th>TATASTEEL</th>\n",
       "    </tr>\n",
       "  </thead>\n",
       "  <tbody>\n",
       "    <tr>\n",
       "      <th>AXISBANK</th>\n",
       "      <td>0.145688</td>\n",
       "      <td>0.064278</td>\n",
       "    </tr>\n",
       "    <tr>\n",
       "      <th>TATASTEEL</th>\n",
       "      <td>0.064278</td>\n",
       "      <td>0.154139</td>\n",
       "    </tr>\n",
       "  </tbody>\n",
       "</table>\n",
       "</div>"
      ],
      "text/plain": [
       "           AXISBANK  TATASTEEL\n",
       "AXISBANK   0.145688   0.064278\n",
       "TATASTEEL  0.064278   0.154139"
      ]
     },
     "execution_count": 5,
     "metadata": {},
     "output_type": "execute_result"
    }
   ],
   "source": [
    "# Calculate covariance of securities in dataframe\n",
    "\n",
    "cov_matrix = stock_return.cov()*250\n",
    "cov_matrix"
   ]
  },
  {
   "cell_type": "code",
   "execution_count": 6,
   "id": "3f659dd9",
   "metadata": {},
   "outputs": [
    {
     "data": {
      "text/html": [
       "<div>\n",
       "<style scoped>\n",
       "    .dataframe tbody tr th:only-of-type {\n",
       "        vertical-align: middle;\n",
       "    }\n",
       "\n",
       "    .dataframe tbody tr th {\n",
       "        vertical-align: top;\n",
       "    }\n",
       "\n",
       "    .dataframe thead th {\n",
       "        text-align: right;\n",
       "    }\n",
       "</style>\n",
       "<table border=\"1\" class=\"dataframe\">\n",
       "  <thead>\n",
       "    <tr style=\"text-align: right;\">\n",
       "      <th></th>\n",
       "      <th>AXISBANK</th>\n",
       "      <th>TATASTEEL</th>\n",
       "    </tr>\n",
       "  </thead>\n",
       "  <tbody>\n",
       "    <tr>\n",
       "      <th>AXISBANK</th>\n",
       "      <td>1.000000</td>\n",
       "      <td>0.428937</td>\n",
       "    </tr>\n",
       "    <tr>\n",
       "      <th>TATASTEEL</th>\n",
       "      <td>0.428937</td>\n",
       "      <td>1.000000</td>\n",
       "    </tr>\n",
       "  </tbody>\n",
       "</table>\n",
       "</div>"
      ],
      "text/plain": [
       "           AXISBANK  TATASTEEL\n",
       "AXISBANK   1.000000   0.428937\n",
       "TATASTEEL  0.428937   1.000000"
      ]
     },
     "execution_count": 6,
     "metadata": {},
     "output_type": "execute_result"
    }
   ],
   "source": [
    "# Calculate correlation of securities in dataframe\n",
    "\n",
    "corr_matrix = stock_return.corr()\n",
    "corr_matrix"
   ]
  },
  {
   "cell_type": "code",
   "execution_count": 7,
   "id": "9fd9c9c2",
   "metadata": {},
   "outputs": [],
   "source": [
    "# Define the weights of security in portfolio\n",
    "\n",
    "weights = np.array([0.5, 0.5])"
   ]
  },
  {
   "cell_type": "code",
   "execution_count": 8,
   "id": "b62551b8",
   "metadata": {},
   "outputs": [
    {
     "data": {
      "text/plain": [
       "0.1070957618392752"
      ]
     },
     "execution_count": 8,
     "metadata": {},
     "output_type": "execute_result"
    }
   ],
   "source": [
    "# Calculate portfolio variance \n",
    "\n",
    "port_var = np.dot(weights.T, np.dot(stock_return.cov()*250, weights))\n",
    "port_var"
   ]
  },
  {
   "cell_type": "code",
   "execution_count": 9,
   "id": "b5890a3e",
   "metadata": {},
   "outputs": [
    {
     "data": {
      "text/plain": [
       "0.3272548881824001"
      ]
     },
     "execution_count": 9,
     "metadata": {},
     "output_type": "execute_result"
    }
   ],
   "source": [
    "# Calculate portfolio volatility or standard deviation\n",
    "\n",
    "port_vol = (np.dot(weights.T, np.dot(stock_return.cov()*250, weights)))**0.5\n",
    "port_vol"
   ]
  },
  {
   "cell_type": "code",
   "execution_count": 10,
   "id": "d5dbb7bd",
   "metadata": {},
   "outputs": [
    {
     "data": {
      "text/plain": [
       "0.14568796858260294"
      ]
     },
     "execution_count": 10,
     "metadata": {},
     "output_type": "execute_result"
    }
   ],
   "source": [
    "# Calculate axisbank variance\n",
    "\n",
    "axis_var = stock_return[\"AXISBANK\"].var()*250\n",
    "axis_var"
   ]
  },
  {
   "cell_type": "code",
   "execution_count": 12,
   "id": "ab0e8431",
   "metadata": {},
   "outputs": [
    {
     "data": {
      "text/plain": [
       "0.15413921256981516"
      ]
     },
     "execution_count": 12,
     "metadata": {},
     "output_type": "execute_result"
    }
   ],
   "source": [
    "tata_var = stock_return[\"TATASTEEL\"].var()*250\n",
    "tata_var"
   ]
  },
  {
   "cell_type": "markdown",
   "id": "071b1ff5",
   "metadata": {},
   "source": [
    "### Diversifiable Risk = Portfolio variance - Weighted annual variance"
   ]
  },
  {
   "cell_type": "code",
   "execution_count": 15,
   "id": "92702870",
   "metadata": {},
   "outputs": [
    {
     "name": "stdout",
     "output_type": "stream",
     "text": [
      "The Diversifiable Risk is : 3.21%\n"
     ]
    }
   ],
   "source": [
    "# Calculate diversified risk\n",
    "\n",
    "diversify_risk = port_var - (weights[0]**2*axis_var) - (weights[1]**2*tata_var)\n",
    "print(f\"The Diversifiable Risk is : {round(diversify_risk*100, 2)}%\")"
   ]
  }
 ],
 "metadata": {
  "kernelspec": {
   "display_name": "Python 3",
   "language": "python",
   "name": "python3"
  },
  "language_info": {
   "codemirror_mode": {
    "name": "ipython",
    "version": 3
   },
   "file_extension": ".py",
   "mimetype": "text/x-python",
   "name": "python",
   "nbconvert_exporter": "python",
   "pygments_lexer": "ipython3",
   "version": "3.8.8"
  }
 },
 "nbformat": 4,
 "nbformat_minor": 5
}
