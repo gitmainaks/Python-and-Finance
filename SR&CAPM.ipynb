{
 "cells": [
  {
   "cell_type": "code",
   "execution_count": 1,
   "id": "04c76bc4",
   "metadata": {},
   "outputs": [],
   "source": [
    "import pandas as pd\n",
    "import numpy as np\n",
    "import matplotlib.pyplot as plt\n",
    "from nsepy import get_history\n",
    "from datetime import date\n",
    "%matplotlib inline"
   ]
  },
  {
   "cell_type": "code",
   "execution_count": 2,
   "id": "8c107dd5",
   "metadata": {},
   "outputs": [
    {
     "data": {
      "text/html": [
       "<div>\n",
       "<style scoped>\n",
       "    .dataframe tbody tr th:only-of-type {\n",
       "        vertical-align: middle;\n",
       "    }\n",
       "\n",
       "    .dataframe tbody tr th {\n",
       "        vertical-align: top;\n",
       "    }\n",
       "\n",
       "    .dataframe thead th {\n",
       "        text-align: right;\n",
       "    }\n",
       "</style>\n",
       "<table border=\"1\" class=\"dataframe\">\n",
       "  <thead>\n",
       "    <tr style=\"text-align: right;\">\n",
       "      <th></th>\n",
       "      <th>TATASTEEL</th>\n",
       "      <th>Nifty</th>\n",
       "    </tr>\n",
       "    <tr>\n",
       "      <th>Date</th>\n",
       "      <th></th>\n",
       "      <th></th>\n",
       "    </tr>\n",
       "  </thead>\n",
       "  <tbody>\n",
       "    <tr>\n",
       "      <th>2015-01-01</th>\n",
       "      <td>404.45</td>\n",
       "      <td>8284.00</td>\n",
       "    </tr>\n",
       "    <tr>\n",
       "      <th>2015-01-02</th>\n",
       "      <td>410.75</td>\n",
       "      <td>8395.45</td>\n",
       "    </tr>\n",
       "    <tr>\n",
       "      <th>2015-01-05</th>\n",
       "      <td>416.70</td>\n",
       "      <td>8378.40</td>\n",
       "    </tr>\n",
       "    <tr>\n",
       "      <th>2015-01-06</th>\n",
       "      <td>396.50</td>\n",
       "      <td>8127.35</td>\n",
       "    </tr>\n",
       "    <tr>\n",
       "      <th>2015-01-07</th>\n",
       "      <td>388.90</td>\n",
       "      <td>8102.10</td>\n",
       "    </tr>\n",
       "  </tbody>\n",
       "</table>\n",
       "</div>"
      ],
      "text/plain": [
       "            TATASTEEL    Nifty\n",
       "Date                          \n",
       "2015-01-01     404.45  8284.00\n",
       "2015-01-02     410.75  8395.45\n",
       "2015-01-05     416.70  8378.40\n",
       "2015-01-06     396.50  8127.35\n",
       "2015-01-07     388.90  8102.10"
      ]
     },
     "execution_count": 2,
     "metadata": {},
     "output_type": "execute_result"
    }
   ],
   "source": [
    "# Fetching all the data into dataframe\n",
    "\n",
    "start = date(2015,1,1)\n",
    "end = date(2021,6,10)\n",
    "\n",
    "tata = get_history(symbol = \"TATASTEEL\", start = start, end = end)[\"Close\"]\n",
    "nifty = get_history(symbol = \"NIFTY\", start = start, end = end, index = True)[\"Close\"]\n",
    "\n",
    "mydata = pd.merge(tata, nifty, right_index = True, left_index = True)\n",
    "mydata = mydata.rename(columns = {\"Close_x\" : \"TATASTEEL\", \"Close_y\" :\"Nifty\"})\n",
    "mydata.head()"
   ]
  },
  {
   "cell_type": "code",
   "execution_count": 3,
   "id": "420ffdd0",
   "metadata": {},
   "outputs": [
    {
     "data": {
      "text/html": [
       "<div>\n",
       "<style scoped>\n",
       "    .dataframe tbody tr th:only-of-type {\n",
       "        vertical-align: middle;\n",
       "    }\n",
       "\n",
       "    .dataframe tbody tr th {\n",
       "        vertical-align: top;\n",
       "    }\n",
       "\n",
       "    .dataframe thead th {\n",
       "        text-align: right;\n",
       "    }\n",
       "</style>\n",
       "<table border=\"1\" class=\"dataframe\">\n",
       "  <thead>\n",
       "    <tr style=\"text-align: right;\">\n",
       "      <th></th>\n",
       "      <th>TATASTEEL</th>\n",
       "      <th>Nifty</th>\n",
       "    </tr>\n",
       "    <tr>\n",
       "      <th>Date</th>\n",
       "      <th></th>\n",
       "      <th></th>\n",
       "    </tr>\n",
       "  </thead>\n",
       "  <tbody>\n",
       "    <tr>\n",
       "      <th>2015-01-01</th>\n",
       "      <td>NaN</td>\n",
       "      <td>NaN</td>\n",
       "    </tr>\n",
       "    <tr>\n",
       "      <th>2015-01-02</th>\n",
       "      <td>0.015457</td>\n",
       "      <td>0.013364</td>\n",
       "    </tr>\n",
       "    <tr>\n",
       "      <th>2015-01-05</th>\n",
       "      <td>0.014382</td>\n",
       "      <td>-0.002033</td>\n",
       "    </tr>\n",
       "    <tr>\n",
       "      <th>2015-01-06</th>\n",
       "      <td>-0.049690</td>\n",
       "      <td>-0.030422</td>\n",
       "    </tr>\n",
       "    <tr>\n",
       "      <th>2015-01-07</th>\n",
       "      <td>-0.019354</td>\n",
       "      <td>-0.003112</td>\n",
       "    </tr>\n",
       "    <tr>\n",
       "      <th>2015-01-08</th>\n",
       "      <td>0.015437</td>\n",
       "      <td>0.016222</td>\n",
       "    </tr>\n",
       "    <tr>\n",
       "      <th>2015-01-09</th>\n",
       "      <td>0.011830</td>\n",
       "      <td>0.006042</td>\n",
       "    </tr>\n",
       "    <tr>\n",
       "      <th>2015-01-12</th>\n",
       "      <td>-0.007283</td>\n",
       "      <td>0.004636</td>\n",
       "    </tr>\n",
       "    <tr>\n",
       "      <th>2015-01-13</th>\n",
       "      <td>-0.013321</td>\n",
       "      <td>-0.002840</td>\n",
       "    </tr>\n",
       "    <tr>\n",
       "      <th>2015-01-14</th>\n",
       "      <td>-0.038138</td>\n",
       "      <td>-0.002636</td>\n",
       "    </tr>\n",
       "  </tbody>\n",
       "</table>\n",
       "</div>"
      ],
      "text/plain": [
       "            TATASTEEL     Nifty\n",
       "Date                           \n",
       "2015-01-01        NaN       NaN\n",
       "2015-01-02   0.015457  0.013364\n",
       "2015-01-05   0.014382 -0.002033\n",
       "2015-01-06  -0.049690 -0.030422\n",
       "2015-01-07  -0.019354 -0.003112\n",
       "2015-01-08   0.015437  0.016222\n",
       "2015-01-09   0.011830  0.006042\n",
       "2015-01-12  -0.007283  0.004636\n",
       "2015-01-13  -0.013321 -0.002840\n",
       "2015-01-14  -0.038138 -0.002636"
      ]
     },
     "execution_count": 3,
     "metadata": {},
     "output_type": "execute_result"
    }
   ],
   "source": [
    "# Calculate log return\n",
    "\n",
    "log_returns = np.log(mydata / mydata.shift(1))\n",
    "log_returns.head(10)"
   ]
  },
  {
   "cell_type": "code",
   "execution_count": 4,
   "id": "e4b41f97",
   "metadata": {},
   "outputs": [
    {
     "data": {
      "text/html": [
       "<div>\n",
       "<style scoped>\n",
       "    .dataframe tbody tr th:only-of-type {\n",
       "        vertical-align: middle;\n",
       "    }\n",
       "\n",
       "    .dataframe tbody tr th {\n",
       "        vertical-align: top;\n",
       "    }\n",
       "\n",
       "    .dataframe thead th {\n",
       "        text-align: right;\n",
       "    }\n",
       "</style>\n",
       "<table border=\"1\" class=\"dataframe\">\n",
       "  <thead>\n",
       "    <tr style=\"text-align: right;\">\n",
       "      <th></th>\n",
       "      <th>TATASTEEL</th>\n",
       "      <th>Nifty</th>\n",
       "    </tr>\n",
       "  </thead>\n",
       "  <tbody>\n",
       "    <tr>\n",
       "      <th>TATASTEEL</th>\n",
       "      <td>0.151572</td>\n",
       "      <td>0.042546</td>\n",
       "    </tr>\n",
       "    <tr>\n",
       "      <th>Nifty</th>\n",
       "      <td>0.042546</td>\n",
       "      <td>0.032464</td>\n",
       "    </tr>\n",
       "  </tbody>\n",
       "</table>\n",
       "</div>"
      ],
      "text/plain": [
       "           TATASTEEL     Nifty\n",
       "TATASTEEL   0.151572  0.042546\n",
       "Nifty       0.042546  0.032464"
      ]
     },
     "execution_count": 4,
     "metadata": {},
     "output_type": "execute_result"
    }
   ],
   "source": [
    "# Calculate covariance of dataframe composite of stock and index\n",
    "\n",
    "cov = log_returns.cov()*250\n",
    "cov"
   ]
  },
  {
   "cell_type": "code",
   "execution_count": 5,
   "id": "5e5d083b",
   "metadata": {},
   "outputs": [
    {
     "data": {
      "text/plain": [
       "0.04254605303679298"
      ]
     },
     "execution_count": 5,
     "metadata": {},
     "output_type": "execute_result"
    }
   ],
   "source": [
    "# Calculate stock covariance with nifty\n",
    "\n",
    "cov_with_nifty = cov.iloc[0,1]\n",
    "cov_with_nifty"
   ]
  },
  {
   "cell_type": "code",
   "execution_count": 6,
   "id": "55d994f8",
   "metadata": {},
   "outputs": [
    {
     "data": {
      "text/plain": [
       "0.03246435664825734"
      ]
     },
     "execution_count": 6,
     "metadata": {},
     "output_type": "execute_result"
    }
   ],
   "source": [
    "nifty_var = log_returns[\"Nifty\"].var()*250\n",
    "nifty_var"
   ]
  },
  {
   "cell_type": "code",
   "execution_count": 7,
   "id": "aae5f937",
   "metadata": {},
   "outputs": [
    {
     "data": {
      "text/plain": [
       "1.3105466249575843"
      ]
     },
     "execution_count": 7,
     "metadata": {},
     "output_type": "execute_result"
    }
   ],
   "source": [
    "# Calculate Stock Beta\n",
    "\n",
    "stock_beta = cov_with_nifty / nifty_var\n",
    "stock_beta"
   ]
  },
  {
   "cell_type": "code",
   "execution_count": 9,
   "id": "a97cb88d",
   "metadata": {},
   "outputs": [
    {
     "data": {
      "text/plain": [
       "0.09931639874872752"
      ]
     },
     "execution_count": 9,
     "metadata": {},
     "output_type": "execute_result"
    }
   ],
   "source": [
    "# Calculating the expected return using risk free rate of Indian govt bond (CAPM)\n",
    "\n",
    "stock_exp_ret = 0.06 + stock_beta*(0.09 - 0.06)\n",
    "stock_exp_ret"
   ]
  },
  {
   "cell_type": "code",
   "execution_count": 13,
   "id": "4755abf5",
   "metadata": {},
   "outputs": [
    {
     "name": "stdout",
     "output_type": "stream",
     "text": [
      "Sharpe Ratio is : 0.1\n"
     ]
    }
   ],
   "source": [
    "# Calculating the Sharpe Ratio\n",
    "\n",
    "Sharpe = (stock_exp_ret - 0.06) / (log_returns[\"TATASTEEL\"].std()*250**0.5)\n",
    "print(f\"Sharpe Ratio is : {round(Sharpe, 2)}\")"
   ]
  },
  {
   "cell_type": "code",
   "execution_count": null,
   "id": "54fb7d5a",
   "metadata": {},
   "outputs": [],
   "source": []
  }
 ],
 "metadata": {
  "kernelspec": {
   "display_name": "Python 3",
   "language": "python",
   "name": "python3"
  },
  "language_info": {
   "codemirror_mode": {
    "name": "ipython",
    "version": 3
   },
   "file_extension": ".py",
   "mimetype": "text/x-python",
   "name": "python",
   "nbconvert_exporter": "python",
   "pygments_lexer": "ipython3",
   "version": "3.8.8"
  }
 },
 "nbformat": 4,
 "nbformat_minor": 5
}
